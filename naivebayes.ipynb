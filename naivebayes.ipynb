{
 "cells": [
  {
   "cell_type": "code",
   "execution_count": 17,
   "id": "1e56d5aa",
   "metadata": {},
   "outputs": [],
   "source": [
    "# import library\n",
    "import pandas as pd\n",
    "from matplotlib import pyplot as plt\n",
    "%matplotlib inline\n",
    "from sklearn.model_selection import train_test_split\n",
    "from sklearn.linear_model import LogisticRegression\n",
    "from sklearn.naive_bayes import GaussianNB\n",
    "from sklearn.metrics import accuracy_score\n",
    "from sklearn.metrics import classification_report\n",
    "from sklearn.metrics import confusion_matrix\n",
    "import numpy as np"
   ]
  },
  {
   "cell_type": "code",
   "execution_count": 18,
   "id": "29d3590a",
   "metadata": {},
   "outputs": [
    {
     "data": {
      "text/html": [
       "<div>\n",
       "<style scoped>\n",
       "    .dataframe tbody tr th:only-of-type {\n",
       "        vertical-align: middle;\n",
       "    }\n",
       "\n",
       "    .dataframe tbody tr th {\n",
       "        vertical-align: top;\n",
       "    }\n",
       "\n",
       "    .dataframe thead th {\n",
       "        text-align: right;\n",
       "    }\n",
       "</style>\n",
       "<table border=\"1\" class=\"dataframe\">\n",
       "  <thead>\n",
       "    <tr style=\"text-align: right;\">\n",
       "      <th></th>\n",
       "      <th>mahasiswaid</th>\n",
       "      <th>nopeserta</th>\n",
       "      <th>nama</th>\n",
       "      <th>tempatlahir</th>\n",
       "      <th>tgllahir</th>\n",
       "      <th>jk</th>\n",
       "      <th>agama</th>\n",
       "      <th>status</th>\n",
       "      <th>asalsekolah</th>\n",
       "      <th>kabkotasekolah</th>\n",
       "      <th>propinsi</th>\n",
       "      <th>thnlulus</th>\n",
       "      <th>fakultas</th>\n",
       "      <th>pekerjaanorgtua</th>\n",
       "      <th>kabkotaorgtua</th>\n",
       "      <th>propinsiorgtua</th>\n",
       "      <th>thnajaran</th>\n",
       "    </tr>\n",
       "  </thead>\n",
       "  <tbody>\n",
       "    <tr>\n",
       "      <th>6462</th>\n",
       "      <td>6487</td>\n",
       "      <td>1999-43-2020</td>\n",
       "      <td>Irene Crysant Marta Marbun</td>\n",
       "      <td>Medan</td>\n",
       "      <td>2/13/2001</td>\n",
       "      <td>Pr</td>\n",
       "      <td>Protestan</td>\n",
       "      <td>Tidak Bekerja</td>\n",
       "      <td>SMU</td>\n",
       "      <td>Medan</td>\n",
       "      <td>Sumatera Utara</td>\n",
       "      <td>2020</td>\n",
       "      <td>Ekonomi</td>\n",
       "      <td>Lain-lain</td>\n",
       "      <td>Medan</td>\n",
       "      <td>Sumatera Utara</td>\n",
       "      <td>2020/2021</td>\n",
       "    </tr>\n",
       "    <tr>\n",
       "      <th>6463</th>\n",
       "      <td>6488</td>\n",
       "      <td>2002-11-2020</td>\n",
       "      <td>Jonny Fransisko Sirait</td>\n",
       "      <td>Kampung Baru</td>\n",
       "      <td>12/1/2000</td>\n",
       "      <td>Lk</td>\n",
       "      <td>Protestan</td>\n",
       "      <td>Tidak Bekerja</td>\n",
       "      <td>MAN</td>\n",
       "      <td>Simalungun</td>\n",
       "      <td>Sumatera Utara</td>\n",
       "      <td>2018</td>\n",
       "      <td>Sastra</td>\n",
       "      <td>Lain-lain</td>\n",
       "      <td>Simalungun</td>\n",
       "      <td>Sumatera Utara</td>\n",
       "      <td>2020/2021</td>\n",
       "    </tr>\n",
       "    <tr>\n",
       "      <th>6464</th>\n",
       "      <td>6489</td>\n",
       "      <td>2001-51-2020</td>\n",
       "      <td>Richi Ardian Sijabat</td>\n",
       "      <td>Parmahanan</td>\n",
       "      <td>6/30/1998</td>\n",
       "      <td>Lk</td>\n",
       "      <td>Protestan</td>\n",
       "      <td>Tidak Bekerja</td>\n",
       "      <td>SMU</td>\n",
       "      <td>Simalungun</td>\n",
       "      <td>Sumatera Utara</td>\n",
       "      <td>2017</td>\n",
       "      <td>Ilmu Komputer</td>\n",
       "      <td>Wiraswasta</td>\n",
       "      <td>Simalungun</td>\n",
       "      <td>Sumatera Utara</td>\n",
       "      <td>2020/2021</td>\n",
       "    </tr>\n",
       "    <tr>\n",
       "      <th>6465</th>\n",
       "      <td>6490</td>\n",
       "      <td>2003-51-2020</td>\n",
       "      <td>Reggy Arauna Aritonang</td>\n",
       "      <td>Medan</td>\n",
       "      <td>7/1/2003</td>\n",
       "      <td>Lk</td>\n",
       "      <td>Protestan</td>\n",
       "      <td>Tidak Bekerja</td>\n",
       "      <td>SMU</td>\n",
       "      <td>Medan</td>\n",
       "      <td>Sumatera Utara</td>\n",
       "      <td>2020</td>\n",
       "      <td>Ilmu Komputer</td>\n",
       "      <td>Lain-lain</td>\n",
       "      <td>Medan</td>\n",
       "      <td>Sumatera Utara</td>\n",
       "      <td>2020/2021</td>\n",
       "    </tr>\n",
       "    <tr>\n",
       "      <th>6466</th>\n",
       "      <td>6491</td>\n",
       "      <td>2000-21-2020</td>\n",
       "      <td>Junialdo Lesmana</td>\n",
       "      <td>Cinta Raja</td>\n",
       "      <td>6/25/1996</td>\n",
       "      <td>Lk</td>\n",
       "      <td>Protestan</td>\n",
       "      <td>Tidak Bekerja</td>\n",
       "      <td>MAN</td>\n",
       "      <td>Langkat</td>\n",
       "      <td>Sumatera Utara</td>\n",
       "      <td>2014</td>\n",
       "      <td>kedokteran</td>\n",
       "      <td>Kary Swasta</td>\n",
       "      <td>Medan</td>\n",
       "      <td>Sumatera Utara</td>\n",
       "      <td>2020/2021</td>\n",
       "    </tr>\n",
       "  </tbody>\n",
       "</table>\n",
       "</div>"
      ],
      "text/plain": [
       "      mahasiswaid     nopeserta                        nama   tempatlahir  \\\n",
       "6462         6487  1999-43-2020  Irene Crysant Marta Marbun         Medan   \n",
       "6463         6488  2002-11-2020      Jonny Fransisko Sirait  Kampung Baru   \n",
       "6464         6489  2001-51-2020        Richi Ardian Sijabat    Parmahanan   \n",
       "6465         6490  2003-51-2020      Reggy Arauna Aritonang         Medan   \n",
       "6466         6491  2000-21-2020            Junialdo Lesmana    Cinta Raja   \n",
       "\n",
       "       tgllahir  jk      agama         status asalsekolah kabkotasekolah  \\\n",
       "6462  2/13/2001  Pr  Protestan  Tidak Bekerja         SMU          Medan   \n",
       "6463  12/1/2000  Lk  Protestan  Tidak Bekerja         MAN     Simalungun   \n",
       "6464  6/30/1998  Lk  Protestan  Tidak Bekerja         SMU     Simalungun   \n",
       "6465   7/1/2003  Lk  Protestan  Tidak Bekerja         SMU          Medan   \n",
       "6466  6/25/1996  Lk  Protestan  Tidak Bekerja         MAN        Langkat   \n",
       "\n",
       "            propinsi thnlulus       fakultas pekerjaanorgtua kabkotaorgtua  \\\n",
       "6462  Sumatera Utara     2020        Ekonomi       Lain-lain         Medan   \n",
       "6463  Sumatera Utara     2018         Sastra       Lain-lain    Simalungun   \n",
       "6464  Sumatera Utara     2017  Ilmu Komputer      Wiraswasta    Simalungun   \n",
       "6465  Sumatera Utara     2020  Ilmu Komputer       Lain-lain         Medan   \n",
       "6466  Sumatera Utara     2014     kedokteran     Kary Swasta         Medan   \n",
       "\n",
       "      propinsiorgtua  thnajaran  \n",
       "6462  Sumatera Utara  2020/2021  \n",
       "6463  Sumatera Utara  2020/2021  \n",
       "6464  Sumatera Utara  2020/2021  \n",
       "6465  Sumatera Utara  2020/2021  \n",
       "6466  Sumatera Utara  2020/2021  "
      ]
     },
     "execution_count": 18,
     "metadata": {},
     "output_type": "execute_result"
    }
   ],
   "source": [
    "# masukkan data ke dalam dataframe\n",
    "df = pd.read_csv(\"qMahasiswa.csv\")\n",
    "df.tail()"
   ]
  },
  {
   "cell_type": "code",
   "execution_count": 19,
   "id": "01aa5337",
   "metadata": {},
   "outputs": [
    {
     "data": {
      "text/html": [
       "<div>\n",
       "<style scoped>\n",
       "    .dataframe tbody tr th:only-of-type {\n",
       "        vertical-align: middle;\n",
       "    }\n",
       "\n",
       "    .dataframe tbody tr th {\n",
       "        vertical-align: top;\n",
       "    }\n",
       "\n",
       "    .dataframe thead th {\n",
       "        text-align: right;\n",
       "    }\n",
       "</style>\n",
       "<table border=\"1\" class=\"dataframe\">\n",
       "  <thead>\n",
       "    <tr style=\"text-align: right;\">\n",
       "      <th></th>\n",
       "      <th>mahasiswaid</th>\n",
       "      <th>nopeserta</th>\n",
       "      <th>nama</th>\n",
       "      <th>tempatlahir</th>\n",
       "      <th>tgllahir</th>\n",
       "      <th>jk</th>\n",
       "      <th>agama</th>\n",
       "      <th>status</th>\n",
       "      <th>asalsekolah</th>\n",
       "      <th>kabkotasekolah</th>\n",
       "      <th>propinsi</th>\n",
       "      <th>thnlulus</th>\n",
       "      <th>fakultas</th>\n",
       "      <th>pekerjaanorgtua</th>\n",
       "      <th>kabkotaorgtua</th>\n",
       "      <th>propinsiorgtua</th>\n",
       "      <th>thnajaran</th>\n",
       "    </tr>\n",
       "  </thead>\n",
       "  <tbody>\n",
       "    <tr>\n",
       "      <th>6462</th>\n",
       "      <td>6487</td>\n",
       "      <td>1999-43-2020</td>\n",
       "      <td>Irene Crysant Marta Marbun</td>\n",
       "      <td>Medan</td>\n",
       "      <td>2/13/2001</td>\n",
       "      <td>0</td>\n",
       "      <td>Protestan</td>\n",
       "      <td>0</td>\n",
       "      <td>0</td>\n",
       "      <td>0</td>\n",
       "      <td>Sumatera Utara</td>\n",
       "      <td>2020</td>\n",
       "      <td>0</td>\n",
       "      <td>4</td>\n",
       "      <td>Medan</td>\n",
       "      <td>Sumatera Utara</td>\n",
       "      <td>2020/2021</td>\n",
       "    </tr>\n",
       "    <tr>\n",
       "      <th>6463</th>\n",
       "      <td>6488</td>\n",
       "      <td>2002-11-2020</td>\n",
       "      <td>Jonny Fransisko Sirait</td>\n",
       "      <td>Kampung Baru</td>\n",
       "      <td>12/1/2000</td>\n",
       "      <td>1</td>\n",
       "      <td>Protestan</td>\n",
       "      <td>0</td>\n",
       "      <td>2</td>\n",
       "      <td>1</td>\n",
       "      <td>Sumatera Utara</td>\n",
       "      <td>2018</td>\n",
       "      <td>2</td>\n",
       "      <td>4</td>\n",
       "      <td>Simalungun</td>\n",
       "      <td>Sumatera Utara</td>\n",
       "      <td>2020/2021</td>\n",
       "    </tr>\n",
       "    <tr>\n",
       "      <th>6464</th>\n",
       "      <td>6489</td>\n",
       "      <td>2001-51-2020</td>\n",
       "      <td>Richi Ardian Sijabat</td>\n",
       "      <td>Parmahanan</td>\n",
       "      <td>6/30/1998</td>\n",
       "      <td>1</td>\n",
       "      <td>Protestan</td>\n",
       "      <td>0</td>\n",
       "      <td>0</td>\n",
       "      <td>1</td>\n",
       "      <td>Sumatera Utara</td>\n",
       "      <td>2017</td>\n",
       "      <td>4</td>\n",
       "      <td>2</td>\n",
       "      <td>Simalungun</td>\n",
       "      <td>Sumatera Utara</td>\n",
       "      <td>2020/2021</td>\n",
       "    </tr>\n",
       "    <tr>\n",
       "      <th>6465</th>\n",
       "      <td>6490</td>\n",
       "      <td>2003-51-2020</td>\n",
       "      <td>Reggy Arauna Aritonang</td>\n",
       "      <td>Medan</td>\n",
       "      <td>7/1/2003</td>\n",
       "      <td>1</td>\n",
       "      <td>Protestan</td>\n",
       "      <td>0</td>\n",
       "      <td>0</td>\n",
       "      <td>0</td>\n",
       "      <td>Sumatera Utara</td>\n",
       "      <td>2020</td>\n",
       "      <td>4</td>\n",
       "      <td>4</td>\n",
       "      <td>Medan</td>\n",
       "      <td>Sumatera Utara</td>\n",
       "      <td>2020/2021</td>\n",
       "    </tr>\n",
       "    <tr>\n",
       "      <th>6466</th>\n",
       "      <td>6491</td>\n",
       "      <td>2000-21-2020</td>\n",
       "      <td>Junialdo Lesmana</td>\n",
       "      <td>Cinta Raja</td>\n",
       "      <td>6/25/1996</td>\n",
       "      <td>1</td>\n",
       "      <td>Protestan</td>\n",
       "      <td>0</td>\n",
       "      <td>2</td>\n",
       "      <td>1</td>\n",
       "      <td>Sumatera Utara</td>\n",
       "      <td>2014</td>\n",
       "      <td>3</td>\n",
       "      <td>1</td>\n",
       "      <td>Medan</td>\n",
       "      <td>Sumatera Utara</td>\n",
       "      <td>2020/2021</td>\n",
       "    </tr>\n",
       "  </tbody>\n",
       "</table>\n",
       "</div>"
      ],
      "text/plain": [
       "      mahasiswaid     nopeserta                        nama   tempatlahir  \\\n",
       "6462         6487  1999-43-2020  Irene Crysant Marta Marbun         Medan   \n",
       "6463         6488  2002-11-2020      Jonny Fransisko Sirait  Kampung Baru   \n",
       "6464         6489  2001-51-2020        Richi Ardian Sijabat    Parmahanan   \n",
       "6465         6490  2003-51-2020      Reggy Arauna Aritonang         Medan   \n",
       "6466         6491  2000-21-2020            Junialdo Lesmana    Cinta Raja   \n",
       "\n",
       "       tgllahir  jk      agama  status  asalsekolah  kabkotasekolah  \\\n",
       "6462  2/13/2001   0  Protestan       0            0               0   \n",
       "6463  12/1/2000   1  Protestan       0            2               1   \n",
       "6464  6/30/1998   1  Protestan       0            0               1   \n",
       "6465   7/1/2003   1  Protestan       0            0               0   \n",
       "6466  6/25/1996   1  Protestan       0            2               1   \n",
       "\n",
       "            propinsi thnlulus  fakultas  pekerjaanorgtua kabkotaorgtua  \\\n",
       "6462  Sumatera Utara     2020         0                4         Medan   \n",
       "6463  Sumatera Utara     2018         2                4    Simalungun   \n",
       "6464  Sumatera Utara     2017         4                2    Simalungun   \n",
       "6465  Sumatera Utara     2020         4                4         Medan   \n",
       "6466  Sumatera Utara     2014         3                1         Medan   \n",
       "\n",
       "      propinsiorgtua  thnajaran  \n",
       "6462  Sumatera Utara  2020/2021  \n",
       "6463  Sumatera Utara  2020/2021  \n",
       "6464  Sumatera Utara  2020/2021  \n",
       "6465  Sumatera Utara  2020/2021  \n",
       "6466  Sumatera Utara  2020/2021  "
      ]
     },
     "execution_count": 19,
     "metadata": {},
     "output_type": "execute_result"
    }
   ],
   "source": [
    "# defenisikan features dan label\n",
    "# feature : jk, status, asalsekolah, kabkotasekolah, pekerjaanorgtua\n",
    "features = [\"jk\", \"status\", \"asalsekolah\", \"kabkotasekolah\", \"pekerjaanorgtua\"]\n",
    "# copykan data ke dataframe baru agar tidak terganggu\n",
    "df1 = df\n",
    "# label : fakultas\n",
    "label = \"fakultas\"\n",
    "# ubah isi field menjadi angka\n",
    "# field \"jk\" : 0 (Pr) dan 1 (Lk)\n",
    "df1[\"jk\"] = df1[\"jk\"].replace([\"Pr\"],0)\n",
    "df1[\"jk\"] = df1[\"jk\"].replace([\"Lk\"],1)\n",
    "# field \"status\" : 0 (Tidak Bekerja) dan 1 (Bekerja)\n",
    "df1[\"status\"] = df1[\"status\"].replace([\"Tidak Bekerja\"],0)\n",
    "df1[\"status\"] = df1[\"status\"].replace([\"Bekerja\"],1)\n",
    "# field \"asalsekolah\" : 0 (SMU), 1 (SMK) dan 2 (MAN)\n",
    "df1[\"asalsekolah\"] = df1[\"asalsekolah\"].replace([\"SMU\"],0)\n",
    "df1[\"asalsekolah\"] = df1[\"asalsekolah\"].replace([\"SMK\"],1)\n",
    "df1[\"asalsekolah\"] = df1[\"asalsekolah\"].replace([\"MAN\"],2)\n",
    "# field \"kabkotasekolah\" : 0 (Medan) dan 1 (di luar medan)\n",
    "df1.loc[(df1.kabkotasekolah!=\"Medan\"),\"kabkotasekolah\"] = 1\n",
    "df1[\"kabkotasekolah\"] = df1[\"kabkotasekolah\"].replace([\"Medan\"],0)\n",
    "# field \"fakultas\" : 0 (Ekonomi), 1 (Pertanian), 2 (Sastra), 3 (Kedokteran), 4 (Ilmu Komputer)\n",
    "df1[\"fakultas\"] = df1[\"fakultas\"].replace([\"Ekonomi\"],0)\n",
    "df1[\"fakultas\"] = df1[\"fakultas\"].replace([\"Pertanian\"],1)\n",
    "df1[\"fakultas\"] = df1[\"fakultas\"].replace([\"Sastra\"],2)\n",
    "df1[\"fakultas\"] = df1[\"fakultas\"].replace([\"Kedokteran\"],3)\n",
    "df1[\"fakultas\"] = df1[\"fakultas\"].replace([\"kedokteran\"],3)\n",
    "df1[\"fakultas\"] = df1[\"fakultas\"].replace([\"Ilmu Komputer\"],4)\n",
    "# field \"pekerjaanorgtua\" : PNS (0), Kary Swasta (1), Wiraswasta (2), TNI/Polri (3)\n",
    "df1[\"pekerjaanorgtua\"] = df1[\"pekerjaanorgtua\"].replace([\"PNS\"],0)\n",
    "df1[\"pekerjaanorgtua\"] = df1[\"pekerjaanorgtua\"].replace([\"Kary Swasta\"],1)\n",
    "df1[\"pekerjaanorgtua\"] = df1[\"pekerjaanorgtua\"].replace([\"Wiraswasta\"],2)\n",
    "df1[\"pekerjaanorgtua\"] = df1[\"pekerjaanorgtua\"].replace([\"TNI/Polri\"],3)\n",
    "df1[\"pekerjaanorgtua\"] = df1[\"pekerjaanorgtua\"].replace([\"Lain-lain\"],4)\n",
    "df1.tail()"
   ]
  },
  {
   "cell_type": "code",
   "execution_count": 20,
   "id": "d5fa8ce4",
   "metadata": {},
   "outputs": [
    {
     "data": {
      "text/plain": [
       "mahasiswaid        0\n",
       "nopeserta          0\n",
       "nama               0\n",
       "tempatlahir        0\n",
       "tgllahir           0\n",
       "jk                 0\n",
       "agama              0\n",
       "status             0\n",
       "asalsekolah        0\n",
       "kabkotasekolah     0\n",
       "propinsi           0\n",
       "thnlulus           0\n",
       "fakultas           0\n",
       "pekerjaanorgtua    0\n",
       "kabkotaorgtua      0\n",
       "propinsiorgtua     0\n",
       "thnajaran          0\n",
       "dtype: int64"
      ]
     },
     "execution_count": 20,
     "metadata": {},
     "output_type": "execute_result"
    }
   ],
   "source": [
    "# defenisikan label\n",
    "class_fakultas = [\"Ekonomi\", \"Pertanian\", \"Sastra\", \"Kedokteran\", \"Ilmu Komputer\"]\n",
    "\n",
    "# langkah pembersihan nilai-nilai\n",
    "# periksa nilai null\n",
    "df1.isnull().sum()"
   ]
  },
  {
   "cell_type": "code",
   "execution_count": 21,
   "id": "604fbd69",
   "metadata": {},
   "outputs": [
    {
     "data": {
      "image/png": "[encoded data removed]",
      "text/plain": [
       "<Figure size 432x432 with 1 Axes>"
      ]
     },
     "metadata": {
      "needs_background": "light"
     },
     "output_type": "display_data"
    },
    {
     "data": {
      "image/png": "[encoded data removed]",
      "text/plain": [
       "<Figure size 432x432 with 1 Axes>"
      ]
     },
     "metadata": {
      "needs_background": "light"
     },
     "output_type": "display_data"
    },
    {
     "data": {
      "image/png": "[encoded data removed]",
      "text/plain": [
       "<Figure size 432x432 with 1 Axes>"
      ]
     },
     "metadata": {
      "needs_background": "light"
     },
     "output_type": "display_data"
    },
    {
     "data": {
      "image/png": "[encoded data removed]",
      "text/plain": [
       "<Figure size 432x432 with 1 Axes>"
      ]
     },
     "metadata": {
      "needs_background": "light"
     },
     "output_type": "display_data"
    },
    {
     "data": {
      "image/png": "[encoded data removed]",
      "text/plain": [
       "<Figure size 432x432 with 1 Axes>"
      ]
     },
     "metadata": {
      "needs_background": "light"
     },
     "output_type": "display_data"
    }
   ],
   "source": [
    "for col in features:\n",
    "    df1.boxplot(column=col, by=\"fakultas\", figsize=(6,6))\n",
    "    plt.title(col)\n",
    "plt.show()"
   ]
  },
  {
   "cell_type": "code",
   "execution_count": 22,
   "id": "cbd51cdd",
   "metadata": {},
   "outputs": [
    {
     "name": "stdout",
     "output_type": "stream",
     "text": [
      "Training Set: 27480, Test Set: 4855 \n",
      "\n"
     ]
    }
   ],
   "source": [
    "# persiapan data\n",
    "# Pemisahan features and labels\n",
    "dat_X, dat_y = df1[features].values, df1[\"fakultas\"].values\n",
    "\n",
    "# Split data 85%-15% menjadi training set dan test set\n",
    "x_dat_train, x_dat_test, y_dat_train, y_dat_test = train_test_split(dat_X, dat_y, test_size=0.15, random_state=0, stratify=dat_y)\n",
    "\n",
    "print('Training Set: %d, Test Set: %d \\n' % (x_dat_train.size, x_dat_test.size))"
   ]
  },
  {
   "cell_type": "code",
   "execution_count": 23,
   "id": "0abdd5a0",
   "metadata": {},
   "outputs": [
    {
     "name": "stdout",
     "output_type": "stream",
     "text": [
      "0.486096807415036\n"
     ]
    }
   ],
   "source": [
    "# membuat model Logistic Regression\n",
    "# penalty : l1, l2, elasticnet\n",
    "# solver : newton-cg, lbfgs, liblinear, sag, saga\n",
    "# max_iter : 1000, 2000, 5000, 10000\n",
    "# multi_class : auto, ovr, multinomial\n",
    "LR = LogisticRegression(penalty=\"l2\", solver=\"lbfgs\", max_iter=1000, multi_class=\"auto\")\n",
    "LR.fit(x_dat_train,y_dat_train)\n",
    "yhat = LR.predict(x_dat_test)\n",
    "print(accuracy_score(y_dat_test,yhat))"
   ]
  },
  {
   "cell_type": "code",
   "execution_count": 24,
   "id": "4403821a",
   "metadata": {},
   "outputs": [
    {
     "name": "stdout",
     "output_type": "stream",
     "text": [
      "              precision    recall  f1-score   support\n",
      "\n",
      "           0       0.53      0.84      0.65       472\n",
      "           1       0.33      0.37      0.35       198\n",
      "           2       0.00      0.00      0.00        63\n",
      "           3       0.00      0.00      0.00        28\n",
      "           4       0.67      0.01      0.02       210\n",
      "\n",
      "    accuracy                           0.49       971\n",
      "   macro avg       0.31      0.24      0.20       971\n",
      "weighted avg       0.47      0.49      0.39       971\n",
      "\n"
     ]
    },
    {
     "name": "stderr",
     "output_type": "stream",
     "text": [
      "c:\\python38\\lib\\site-packages\\sklearn\\metrics\\_classification.py:1245: UndefinedMetricWarning: Precision and F-score are ill-defined and being set to 0.0 in labels with no predicted samples. Use `zero_division` parameter to control this behavior.\n",
      "  _warn_prf(average, modifier, msg_start, len(result))\n",
      "c:\\python38\\lib\\site-packages\\sklearn\\metrics\\_classification.py:1245: UndefinedMetricWarning: Precision and F-score are ill-defined and being set to 0.0 in labels with no predicted samples. Use `zero_division` parameter to control this behavior.\n",
      "  _warn_prf(average, modifier, msg_start, len(result))\n",
      "c:\\python38\\lib\\site-packages\\sklearn\\metrics\\_classification.py:1245: UndefinedMetricWarning: Precision and F-score are ill-defined and being set to 0.0 in labels with no predicted samples. Use `zero_division` parameter to control this behavior.\n",
      "  _warn_prf(average, modifier, msg_start, len(result))\n"
     ]
    }
   ],
   "source": [
    "# lihat klasifikasi report\n",
    "print(classification_report(y_dat_test, yhat))"
   ]
  },
  {
   "cell_type": "code",
   "execution_count": 25,
   "id": "e7417517",
   "metadata": {},
   "outputs": [
    {
     "data": {
      "image/png": "[encoded data removed]",
      "text/plain": [
       "<Figure size 432x288 with 2 Axes>"
      ]
     },
     "metadata": {
      "needs_background": "light"
     },
     "output_type": "display_data"
    }
   ],
   "source": [
    "# ukur confusion matrix\n",
    "mcm = confusion_matrix(y_dat_test, yhat)\n",
    "plt.imshow(mcm, interpolation=\"nearest\", cmap=plt.cm.Blues)\n",
    "plt.colorbar()\n",
    "tick_marks = np.arange(len(class_fakultas))\n",
    "plt.xticks(tick_marks, class_fakultas, rotation=45)\n",
    "plt.yticks(tick_marks, class_fakultas)\n",
    "plt.xlabel(\"Fakultas sebenarnya\")\n",
    "plt.ylabel(\"Fakultas Prediksi\")\n",
    "plt.show()"
   ]
  },
  {
   "cell_type": "code",
   "execution_count": 26,
   "id": "d7898927",
   "metadata": {},
   "outputs": [
    {
     "name": "stdout",
     "output_type": "stream",
     "text": [
      "0.48094747682801237\n"
     ]
    }
   ],
   "source": [
    "# membuat model Naive Bayes\n",
    "NB = GaussianNB()\n",
    "NB.fit(x_dat_train,y_dat_train)\n",
    "yhat = NB.predict(x_dat_test)\n",
    "print(accuracy_score(y_dat_test,yhat))"
   ]
  },
  {
   "cell_type": "code",
   "execution_count": 27,
   "id": "540bd805",
   "metadata": {},
   "outputs": [
    {
     "name": "stdout",
     "output_type": "stream",
     "text": [
      "              precision    recall  f1-score   support\n",
      "\n",
      "           0       0.56      0.77      0.64       472\n",
      "           1       0.33      0.52      0.40       198\n",
      "           2       0.22      0.03      0.06        63\n",
      "           3       0.00      0.00      0.00        28\n",
      "           4       0.00      0.00      0.00       210\n",
      "\n",
      "    accuracy                           0.48       971\n",
      "   macro avg       0.22      0.26      0.22       971\n",
      "weighted avg       0.35      0.48      0.40       971\n",
      "\n"
     ]
    },
    {
     "name": "stderr",
     "output_type": "stream",
     "text": [
      "c:\\python38\\lib\\site-packages\\sklearn\\metrics\\_classification.py:1245: UndefinedMetricWarning: Precision and F-score are ill-defined and being set to 0.0 in labels with no predicted samples. Use `zero_division` parameter to control this behavior.\n",
      "  _warn_prf(average, modifier, msg_start, len(result))\n",
      "c:\\python38\\lib\\site-packages\\sklearn\\metrics\\_classification.py:1245: UndefinedMetricWarning: Precision and F-score are ill-defined and being set to 0.0 in labels with no predicted samples. Use `zero_division` parameter to control this behavior.\n",
      "  _warn_prf(average, modifier, msg_start, len(result))\n",
      "c:\\python38\\lib\\site-packages\\sklearn\\metrics\\_classification.py:1245: UndefinedMetricWarning: Precision and F-score are ill-defined and being set to 0.0 in labels with no predicted samples. Use `zero_division` parameter to control this behavior.\n",
      "  _warn_prf(average, modifier, msg_start, len(result))\n"
     ]
    }
   ],
   "source": [
    "# lihat klasifikasi report\n",
    "print(classification_report(y_dat_test, yhat))"
   ]
  },
  {
   "cell_type": "code",
   "execution_count": 28,
   "id": "528c4d49",
   "metadata": {},
   "outputs": [
    {
     "data": {
      "image/png": "[encoded data removed]",
      "text/plain": [
       "<Figure size 432x288 with 2 Axes>"
      ]
     },
     "metadata": {
      "needs_background": "light"
     },
     "output_type": "display_data"
    }
   ],
   "source": [
    "# ukur confusion matrix\n",
    "mcm = confusion_matrix(y_dat_test, yhat)\n",
    "plt.imshow(mcm, interpolation=\"nearest\", cmap=plt.cm.Blues)\n",
    "plt.colorbar()\n",
    "tick_marks = np.arange(len(class_fakultas))\n",
    "plt.xticks(tick_marks, class_fakultas, rotation=45)\n",
    "plt.yticks(tick_marks, class_fakultas)\n",
    "plt.xlabel(\"Fakultas sebenarnya\")\n",
    "plt.ylabel(\"Fakultas Prediksi\")\n",
    "plt.show()"
   ]
  },
  {
   "cell_type": "code",
   "execution_count": null,
   "id": "0a1fdc61",
   "metadata": {},
   "outputs": [],
   "source": []
  }
 ],
 "metadata": {
  "kernelspec": {
   "display_name": "Python 3",
   "language": "python",
   "name": "python3"
  },
  "language_info": {
   "codemirror_mode": {
    "name": "ipython",
    "version": 3
   },
   "file_extension": ".py",
   "mimetype": "text/x-python",
   "name": "python",
   "nbconvert_exporter": "python",
   "pygments_lexer": "ipython3",
   "version": "3.8.4"
  }
 },
 "nbformat": 4,
 "nbformat_minor": 5
}
